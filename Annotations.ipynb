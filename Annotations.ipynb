{
 "cells": [
  {
   "cell_type": "markdown",
   "metadata": {},
   "source": [
    "The goal of this file is to combine the small segments of the forrest gump movie fmri run into a combined pandas dataframe"
   ]
  },
  {
   "cell_type": "code",
   "execution_count": 43,
   "metadata": {},
   "outputs": [],
   "source": [
    "import pandas as pd\n",
    "import os \n",
    "import pickle as pickle\n",
    "import csv\n",
    "import numpy as np"
   ]
  },
  {
   "cell_type": "code",
   "execution_count": 23,
   "metadata": {},
   "outputs": [],
   "source": [
    "cwd = os.getcwd()\n",
    "annDir = os.path.join(cwd, 'studyforrest-data-annotations')\n",
    "segDir = os.path.join(annDir, 'segments', 'avmovie')"
   ]
  },
  {
   "cell_type": "code",
   "execution_count": 24,
   "metadata": {},
   "outputs": [
    {
     "data": {
      "text/plain": [
       "'C:\\\\Users\\\\elawl\\\\Documents\\\\2020_NMA_Group_Project\\\\studyforrest-data-annotations\\\\segments\\\\avmovie'"
      ]
     },
     "execution_count": 24,
     "metadata": {},
     "output_type": "execute_result"
    }
   ],
   "source": [
    "segDir"
   ]
  },
  {
   "cell_type": "code",
   "execution_count": 13,
   "metadata": {},
   "outputs": [
    {
     "data": {
      "text/plain": [
       "4"
      ]
     },
     "execution_count": 13,
     "metadata": {},
     "output_type": "execute_result"
    }
   ],
   "source": [
    "exFn = \"locations_run-4_events.tsv\"\n",
    "int(exFn[14])"
   ]
  },
  {
   "cell_type": "code",
   "execution_count": 54,
   "metadata": {},
   "outputs": [],
   "source": [
    "def add_to_df(dataToAdd, DF):\n",
    "    # ...\n",
    "    DF_added = DF\n",
    "    \n",
    "    return DF_added\n",
    "\n",
    "def get_locations_filename(run, segDir):\n",
    "    filename = 'locations_run-' + str(run+1) + '_events.tsv'\n",
    "    filename = os.path.join(segDir, filename)\n",
    "    \n",
    "    return filename"
   ]
  },
  {
   "cell_type": "code",
   "execution_count": 215,
   "metadata": {},
   "outputs": [],
   "source": [
    "#columns = [\"onset\", \"duration\", \"major_location\", \"setting\", \"locale\", \"int_or_ext\", \"flow_of_time\", \"time_of_day\", \"run\"]\n",
    "movAnnotations = pd.DataFrame()\n",
    "movAnnotations\n",
    "\n",
    "runNum = 8\n",
    "length = 0\n",
    "for run in range(runNum):\n",
    "    # open each run\n",
    "    filename = get_locations_filename(run, segDir)\n",
    "    currentSeg = pd.read_csv(filename, delimiter='\\t')\n",
    "   \n",
    "    # add a column for the corresponding run\n",
    "    numberOfRows = len(currentSeg)\n",
    "    runArray = np.ones(numberOfRows)*(run+1) \n",
    "    currentSeg['run'] = runArray\n",
    "    \n",
    "    length += len(currentSeg)\n",
    "\n",
    "    # add to a main DF \n",
    "    movAnnotations = pd.concat([movAnnotations, currentSeg], ignore_index=True)"
   ]
  },
  {
   "cell_type": "code",
   "execution_count": 219,
   "metadata": {},
   "outputs": [
    {
     "name": "stdout",
     "output_type": "stream",
     "text": [
      "869 869\n"
     ]
    }
   ],
   "source": [
    "print(len(movAnnotations), length)"
   ]
  },
  {
   "cell_type": "code",
   "execution_count": 218,
   "metadata": {},
   "outputs": [
    {
     "data": {
      "text/html": [
       "<div>\n",
       "<style scoped>\n",
       "    .dataframe tbody tr th:only-of-type {\n",
       "        vertical-align: middle;\n",
       "    }\n",
       "\n",
       "    .dataframe tbody tr th {\n",
       "        vertical-align: top;\n",
       "    }\n",
       "\n",
       "    .dataframe thead th {\n",
       "        text-align: right;\n",
       "    }\n",
       "</style>\n",
       "<table border=\"1\" class=\"dataframe\">\n",
       "  <thead>\n",
       "    <tr style=\"text-align: right;\">\n",
       "      <th></th>\n",
       "      <th>onset</th>\n",
       "      <th>duration</th>\n",
       "      <th>major_location</th>\n",
       "      <th>setting</th>\n",
       "      <th>locale</th>\n",
       "      <th>int_or_ext</th>\n",
       "      <th>flow_of_time</th>\n",
       "      <th>time_of_day</th>\n",
       "      <th>run</th>\n",
       "    </tr>\n",
       "  </thead>\n",
       "  <tbody>\n",
       "    <tr>\n",
       "      <th>0</th>\n",
       "      <td>0.00</td>\n",
       "      <td>17.00</td>\n",
       "      <td>Paramount</td>\n",
       "      <td>mountain logo</td>\n",
       "      <td>mountain logo</td>\n",
       "      <td>ext</td>\n",
       "      <td>0</td>\n",
       "      <td>day</td>\n",
       "      <td>1.0</td>\n",
       "    </tr>\n",
       "    <tr>\n",
       "      <th>1</th>\n",
       "      <td>17.00</td>\n",
       "      <td>151.08</td>\n",
       "      <td>Savannah</td>\n",
       "      <td>sky over Savannah</td>\n",
       "      <td>sky over Savannah</td>\n",
       "      <td>ext</td>\n",
       "      <td>++</td>\n",
       "      <td>day</td>\n",
       "      <td>1.0</td>\n",
       "    </tr>\n",
       "    <tr>\n",
       "      <th>2</th>\n",
       "      <td>168.08</td>\n",
       "      <td>104.12</td>\n",
       "      <td>Savannah</td>\n",
       "      <td>bench at bus stop</td>\n",
       "      <td>bench at bus stop</td>\n",
       "      <td>ext</td>\n",
       "      <td>0</td>\n",
       "      <td>day</td>\n",
       "      <td>1.0</td>\n",
       "    </tr>\n",
       "    <tr>\n",
       "      <th>3</th>\n",
       "      <td>272.20</td>\n",
       "      <td>14.12</td>\n",
       "      <td>Greenbow Alabama</td>\n",
       "      <td>doctor's office</td>\n",
       "      <td>doctor's office</td>\n",
       "      <td>int</td>\n",
       "      <td>-</td>\n",
       "      <td>day</td>\n",
       "      <td>1.0</td>\n",
       "    </tr>\n",
       "    <tr>\n",
       "      <th>4</th>\n",
       "      <td>286.32</td>\n",
       "      <td>14.24</td>\n",
       "      <td>Greenbow Alabama</td>\n",
       "      <td>doctor's office</td>\n",
       "      <td>doctor's office</td>\n",
       "      <td>int</td>\n",
       "      <td>0</td>\n",
       "      <td>day</td>\n",
       "      <td>1.0</td>\n",
       "    </tr>\n",
       "  </tbody>\n",
       "</table>\n",
       "</div>"
      ],
      "text/plain": [
       "    onset  duration    major_location            setting             locale  \\\n",
       "0    0.00     17.00         Paramount      mountain logo      mountain logo   \n",
       "1   17.00    151.08          Savannah  sky over Savannah  sky over Savannah   \n",
       "2  168.08    104.12          Savannah  bench at bus stop  bench at bus stop   \n",
       "3  272.20     14.12  Greenbow Alabama    doctor's office    doctor's office   \n",
       "4  286.32     14.24  Greenbow Alabama    doctor's office    doctor's office   \n",
       "\n",
       "  int_or_ext flow_of_time time_of_day  run  \n",
       "0        ext            0         day  1.0  \n",
       "1        ext           ++         day  1.0  \n",
       "2        ext            0         day  1.0  \n",
       "3        int            -         day  1.0  \n",
       "4        int            0         day  1.0  "
      ]
     },
     "execution_count": 218,
     "metadata": {},
     "output_type": "execute_result"
    }
   ],
   "source": [
    "movAnnotations.head()"
   ]
  },
  {
   "cell_type": "markdown",
   "metadata": {},
   "source": [
    "## Notes\n",
    "We want to look for places and people (and possibly time jumps)\n",
    "- do we subset to a list of places we care about?\n",
    "- how do we label so they're the same across runs\n",
    "    - pick locations (of interest) and give them a number system\n",
    "    - replace with 0, -, + (code for things that happend last -> replacing 0s to have a scale of relevant time in FG's life\n",
    "    \n",
    "Data\n",
    "- major_setting, setting, locale\n",
    "- very broad, a bit more fine grain, very fine grain\n",
    "- also have \"ext\"/\"int\"; \"night\"/\"day\"\n",
    "\n",
    "Scale of location:\n",
    "- for most of our questions, we'll want to look at \"setting\"\n",
    "- but we can also ask how physical distance may be encoded using \"major_setting\"\n",
    "\n",
    "Locations\n",
    "- reduce them to locations that occur in between runs \n",
    "- ex: run 1 has 15 locations that don't appear in run 2 etc.\n",
    "- is there enough temporal time between locations to look at them?"
   ]
  },
  {
   "cell_type": "code",
   "execution_count": 60,
   "metadata": {},
   "outputs": [],
   "source": [
    "# Code flow of time to get a coarse coding of how much time has passed"
   ]
  },
  {
   "cell_type": "markdown",
   "metadata": {},
   "source": [
    "Next steps:\n",
    "* group \"setting\" within the same run to sum the duration \n",
    "* reducing events -> finding locations that occur multiple times (and in different scenes) \n",
    "\n",
    "Helpful way to structure annotations:\n",
    "* "
   ]
  },
  {
   "cell_type": "code",
   "execution_count": 71,
   "metadata": {},
   "outputs": [],
   "source": [
    "# get unique values in each run \n",
    "\n",
    "all_unique_locations = [] #{}\n",
    "\n",
    "for run in range(runNum):\n",
    "    unique_run_settings = pd.unique(movAnnotations[movAnnotations['run']==run]['setting'])\n",
    "    all_unique_locations.extend(unique_run_settings)\n",
    "    \n",
    "    \n",
    "    #all_unique_locations['run'+str(run)] = unique_run_settings"
   ]
  },
  {
   "cell_type": "code",
   "execution_count": 162,
   "metadata": {},
   "outputs": [],
   "source": [
    "unique, counts = np.unique(all_unique_locations, return_counts=True)\n",
    "locationDict = dict(zip(unique, counts))\n",
    "#locationDict"
   ]
  },
  {
   "cell_type": "code",
   "execution_count": 77,
   "metadata": {},
   "outputs": [],
   "source": [
    "all_unique_major = [] #{}\n",
    "\n",
    "for run in range(runNum):\n",
    "    unique_run_major = pd.unique(movAnnotations[movAnnotations['run']==run]['major_location'])\n",
    "    all_unique_major.extend(unique_run_major)\n",
    "    \n",
    "    \n",
    "    #all_unique_locations['run'+str(run)] = unique_run_settings"
   ]
  },
  {
   "cell_type": "code",
   "execution_count": 161,
   "metadata": {},
   "outputs": [],
   "source": [
    "unique, counts = np.unique(all_unique_major, return_counts=True)\n",
    "majorDict = dict(zip(unique, counts))\n",
    "#majorDict"
   ]
  },
  {
   "cell_type": "code",
   "execution_count": 80,
   "metadata": {},
   "outputs": [],
   "source": [
    "unique_settings = pd.unique(movAnnotations['setting'])"
   ]
  },
  {
   "cell_type": "code",
   "execution_count": 125,
   "metadata": {},
   "outputs": [],
   "source": [
    "unique, counts = np.unique(unique_settings, return_counts=True)\n",
    "settings = dict(zip(unique, counts))\n",
    "#settings"
   ]
  },
  {
   "cell_type": "code",
   "execution_count": 220,
   "metadata": {},
   "outputs": [],
   "source": [
    "compressedTimes = pd.DataFrame(columns= movAnnotations.columns)\n",
    "compressedTimesIndex = 0 \n",
    "\n",
    "# if setting = previous setting -> add them together and continue iteration \n",
    "for i, row in movAnnotations.iterrows( ):\n",
    "    \n",
    "    if i == 0:\n",
    "        compressedTimes = compressedTimes.append(row)\n",
    "            \n",
    "    else:\n",
    "        if row['setting'] == compressedTimes.iloc[compressedTimesIndex]['setting']:\n",
    "            compressedTimes.iat[compressedTimesIndex,1] = row['duration'] + compressedTimes.iloc[compressedTimesIndex]['duration']\n",
    "            \n",
    "        else:\n",
    "            compressedTimes = compressedTimes.append(row)\n",
    "            compressedTimesIndex += 1\n",
    "\n",
    "            \n",
    "            "
   ]
  },
  {
   "cell_type": "code",
   "execution_count": 221,
   "metadata": {},
   "outputs": [
    {
     "data": {
      "text/plain": [
       "186"
      ]
     },
     "execution_count": 221,
     "metadata": {},
     "output_type": "execute_result"
    }
   ],
   "source": [
    "len(compressedTimes)"
   ]
  },
  {
   "cell_type": "code",
   "execution_count": 222,
   "metadata": {},
   "outputs": [
    {
     "data": {
      "text/plain": [
       "869"
      ]
     },
     "execution_count": 222,
     "metadata": {},
     "output_type": "execute_result"
    }
   ],
   "source": [
    "len(movAnnotations)"
   ]
  },
  {
   "cell_type": "code",
   "execution_count": 223,
   "metadata": {},
   "outputs": [
    {
     "data": {
      "text/html": [
       "<div>\n",
       "<style scoped>\n",
       "    .dataframe tbody tr th:only-of-type {\n",
       "        vertical-align: middle;\n",
       "    }\n",
       "\n",
       "    .dataframe tbody tr th {\n",
       "        vertical-align: top;\n",
       "    }\n",
       "\n",
       "    .dataframe thead th {\n",
       "        text-align: right;\n",
       "    }\n",
       "</style>\n",
       "<table border=\"1\" class=\"dataframe\">\n",
       "  <thead>\n",
       "    <tr style=\"text-align: right;\">\n",
       "      <th></th>\n",
       "      <th>onset</th>\n",
       "      <th>duration</th>\n",
       "      <th>major_location</th>\n",
       "      <th>setting</th>\n",
       "      <th>locale</th>\n",
       "      <th>int_or_ext</th>\n",
       "      <th>flow_of_time</th>\n",
       "      <th>time_of_day</th>\n",
       "      <th>run</th>\n",
       "    </tr>\n",
       "  </thead>\n",
       "  <tbody>\n",
       "    <tr>\n",
       "      <th>0</th>\n",
       "      <td>0.00</td>\n",
       "      <td>17.00</td>\n",
       "      <td>Paramount</td>\n",
       "      <td>mountain logo</td>\n",
       "      <td>mountain logo</td>\n",
       "      <td>ext</td>\n",
       "      <td>0</td>\n",
       "      <td>day</td>\n",
       "      <td>1.0</td>\n",
       "    </tr>\n",
       "    <tr>\n",
       "      <th>1</th>\n",
       "      <td>17.00</td>\n",
       "      <td>151.08</td>\n",
       "      <td>Savannah</td>\n",
       "      <td>sky over Savannah</td>\n",
       "      <td>sky over Savannah</td>\n",
       "      <td>ext</td>\n",
       "      <td>++</td>\n",
       "      <td>day</td>\n",
       "      <td>1.0</td>\n",
       "    </tr>\n",
       "    <tr>\n",
       "      <th>2</th>\n",
       "      <td>168.08</td>\n",
       "      <td>104.12</td>\n",
       "      <td>Savannah</td>\n",
       "      <td>bench at bus stop</td>\n",
       "      <td>bench at bus stop</td>\n",
       "      <td>ext</td>\n",
       "      <td>0</td>\n",
       "      <td>day</td>\n",
       "      <td>1.0</td>\n",
       "    </tr>\n",
       "    <tr>\n",
       "      <th>3</th>\n",
       "      <td>272.20</td>\n",
       "      <td>39.76</td>\n",
       "      <td>Greenbow Alabama</td>\n",
       "      <td>doctor's office</td>\n",
       "      <td>doctor's office</td>\n",
       "      <td>int</td>\n",
       "      <td>-</td>\n",
       "      <td>day</td>\n",
       "      <td>1.0</td>\n",
       "    </tr>\n",
       "    <tr>\n",
       "      <th>6</th>\n",
       "      <td>311.96</td>\n",
       "      <td>6.32</td>\n",
       "      <td>Greenbow Alabama</td>\n",
       "      <td>main street</td>\n",
       "      <td>crossroads</td>\n",
       "      <td>ext</td>\n",
       "      <td>+</td>\n",
       "      <td>day</td>\n",
       "      <td>1.0</td>\n",
       "    </tr>\n",
       "  </tbody>\n",
       "</table>\n",
       "</div>"
      ],
      "text/plain": [
       "    onset  duration    major_location            setting             locale  \\\n",
       "0    0.00     17.00         Paramount      mountain logo      mountain logo   \n",
       "1   17.00    151.08          Savannah  sky over Savannah  sky over Savannah   \n",
       "2  168.08    104.12          Savannah  bench at bus stop  bench at bus stop   \n",
       "3  272.20     39.76  Greenbow Alabama    doctor's office    doctor's office   \n",
       "6  311.96      6.32  Greenbow Alabama        main street         crossroads   \n",
       "\n",
       "  int_or_ext flow_of_time time_of_day  run  \n",
       "0        ext            0         day  1.0  \n",
       "1        ext           ++         day  1.0  \n",
       "2        ext            0         day  1.0  \n",
       "3        int            -         day  1.0  \n",
       "6        ext            +         day  1.0  "
      ]
     },
     "execution_count": 223,
     "metadata": {},
     "output_type": "execute_result"
    }
   ],
   "source": [
    "compressedTimes.head()"
   ]
  },
  {
   "cell_type": "code",
   "execution_count": 224,
   "metadata": {},
   "outputs": [
    {
     "data": {
      "text/plain": [
       "94"
      ]
     },
     "execution_count": 224,
     "metadata": {},
     "output_type": "execute_result"
    }
   ],
   "source": [
    "len(movAnnotations[movAnnotations['run']==3.0])"
   ]
  },
  {
   "cell_type": "code",
   "execution_count": 225,
   "metadata": {},
   "outputs": [
    {
     "data": {
      "text/plain": [
       "155"
      ]
     },
     "execution_count": 225,
     "metadata": {},
     "output_type": "execute_result"
    }
   ],
   "source": [
    "len(movAnnotations[movAnnotations['run']==2.0])"
   ]
  },
  {
   "cell_type": "code",
   "execution_count": 226,
   "metadata": {},
   "outputs": [
    {
     "data": {
      "text/plain": [
       "137"
      ]
     },
     "execution_count": 226,
     "metadata": {},
     "output_type": "execute_result"
    }
   ],
   "source": [
    "len(movAnnotations[movAnnotations['run']==4.0])"
   ]
  },
  {
   "cell_type": "code",
   "execution_count": 228,
   "metadata": {},
   "outputs": [
    {
     "data": {
      "text/html": [
       "<div>\n",
       "<style scoped>\n",
       "    .dataframe tbody tr th:only-of-type {\n",
       "        vertical-align: middle;\n",
       "    }\n",
       "\n",
       "    .dataframe tbody tr th {\n",
       "        vertical-align: top;\n",
       "    }\n",
       "\n",
       "    .dataframe thead th {\n",
       "        text-align: right;\n",
       "    }\n",
       "</style>\n",
       "<table border=\"1\" class=\"dataframe\">\n",
       "  <thead>\n",
       "    <tr style=\"text-align: right;\">\n",
       "      <th></th>\n",
       "      <th>onset</th>\n",
       "      <th>duration</th>\n",
       "      <th>major_location</th>\n",
       "      <th>setting</th>\n",
       "      <th>locale</th>\n",
       "      <th>int_or_ext</th>\n",
       "      <th>flow_of_time</th>\n",
       "      <th>time_of_day</th>\n",
       "      <th>run</th>\n",
       "    </tr>\n",
       "  </thead>\n",
       "  <tbody>\n",
       "    <tr>\n",
       "      <th>290</th>\n",
       "      <td>465.60</td>\n",
       "      <td>39.16</td>\n",
       "      <td>Vietnam</td>\n",
       "      <td>Military Base</td>\n",
       "      <td>at Dan's tent</td>\n",
       "      <td>ext</td>\n",
       "      <td>0</td>\n",
       "      <td>day</td>\n",
       "      <td>3.0</td>\n",
       "    </tr>\n",
       "    <tr>\n",
       "      <th>291</th>\n",
       "      <td>504.76</td>\n",
       "      <td>4.64</td>\n",
       "      <td>Vietnam</td>\n",
       "      <td>Military Base</td>\n",
       "      <td>at Dan's tent</td>\n",
       "      <td>ext</td>\n",
       "      <td>0</td>\n",
       "      <td>day</td>\n",
       "      <td>3.0</td>\n",
       "    </tr>\n",
       "    <tr>\n",
       "      <th>292</th>\n",
       "      <td>509.40</td>\n",
       "      <td>4.56</td>\n",
       "      <td>Vietnam</td>\n",
       "      <td>Military Base</td>\n",
       "      <td>at Dan's tent</td>\n",
       "      <td>ext</td>\n",
       "      <td>0</td>\n",
       "      <td>day</td>\n",
       "      <td>3.0</td>\n",
       "    </tr>\n",
       "    <tr>\n",
       "      <th>293</th>\n",
       "      <td>513.96</td>\n",
       "      <td>13.24</td>\n",
       "      <td>Vietnam</td>\n",
       "      <td>Military Base</td>\n",
       "      <td>at Dan's tent</td>\n",
       "      <td>ext</td>\n",
       "      <td>0</td>\n",
       "      <td>day</td>\n",
       "      <td>3.0</td>\n",
       "    </tr>\n",
       "    <tr>\n",
       "      <th>294</th>\n",
       "      <td>527.20</td>\n",
       "      <td>2.00</td>\n",
       "      <td>Vietnam</td>\n",
       "      <td>Military Base</td>\n",
       "      <td>at Dan's tent</td>\n",
       "      <td>ext</td>\n",
       "      <td>0</td>\n",
       "      <td>day</td>\n",
       "      <td>3.0</td>\n",
       "    </tr>\n",
       "    <tr>\n",
       "      <th>295</th>\n",
       "      <td>529.20</td>\n",
       "      <td>5.44</td>\n",
       "      <td>Vietnam</td>\n",
       "      <td>Military Base</td>\n",
       "      <td>at Dan's tent</td>\n",
       "      <td>ext</td>\n",
       "      <td>0</td>\n",
       "      <td>day</td>\n",
       "      <td>3.0</td>\n",
       "    </tr>\n",
       "    <tr>\n",
       "      <th>296</th>\n",
       "      <td>534.64</td>\n",
       "      <td>19.76</td>\n",
       "      <td>Vietnam</td>\n",
       "      <td>Military Base</td>\n",
       "      <td>at Dan's tent</td>\n",
       "      <td>ext</td>\n",
       "      <td>0</td>\n",
       "      <td>day</td>\n",
       "      <td>3.0</td>\n",
       "    </tr>\n",
       "    <tr>\n",
       "      <th>297</th>\n",
       "      <td>554.40</td>\n",
       "      <td>2.48</td>\n",
       "      <td>Vietnam</td>\n",
       "      <td>Military Base</td>\n",
       "      <td>at Dan's tent</td>\n",
       "      <td>ext</td>\n",
       "      <td>0</td>\n",
       "      <td>day</td>\n",
       "      <td>3.0</td>\n",
       "    </tr>\n",
       "    <tr>\n",
       "      <th>298</th>\n",
       "      <td>556.88</td>\n",
       "      <td>1.48</td>\n",
       "      <td>United States</td>\n",
       "      <td>battlefield in Revolutionary War</td>\n",
       "      <td>battlefield in Revolutionary War</td>\n",
       "      <td>ext</td>\n",
       "      <td>-</td>\n",
       "      <td>day</td>\n",
       "      <td>3.0</td>\n",
       "    </tr>\n",
       "    <tr>\n",
       "      <th>299</th>\n",
       "      <td>558.36</td>\n",
       "      <td>1.60</td>\n",
       "      <td>United States</td>\n",
       "      <td>battlefield in American Zivil War</td>\n",
       "      <td>battlefield in American Zivil War</td>\n",
       "      <td>ext</td>\n",
       "      <td>++</td>\n",
       "      <td>day</td>\n",
       "      <td>3.0</td>\n",
       "    </tr>\n",
       "    <tr>\n",
       "      <th>300</th>\n",
       "      <td>559.96</td>\n",
       "      <td>1.16</td>\n",
       "      <td>Europe</td>\n",
       "      <td>battlefield in World War 1</td>\n",
       "      <td>battlefield in World War 1</td>\n",
       "      <td>ext</td>\n",
       "      <td>++</td>\n",
       "      <td>day</td>\n",
       "      <td>3.0</td>\n",
       "    </tr>\n",
       "    <tr>\n",
       "      <th>301</th>\n",
       "      <td>561.12</td>\n",
       "      <td>2.08</td>\n",
       "      <td>Europe</td>\n",
       "      <td>battlefield in World War 2</td>\n",
       "      <td>battlefield in World War 2</td>\n",
       "      <td>ext</td>\n",
       "      <td>++</td>\n",
       "      <td>day</td>\n",
       "      <td>3.0</td>\n",
       "    </tr>\n",
       "    <tr>\n",
       "      <th>302</th>\n",
       "      <td>563.20</td>\n",
       "      <td>44.28</td>\n",
       "      <td>Vietnam</td>\n",
       "      <td>Military Base</td>\n",
       "      <td>at Dan's tent</td>\n",
       "      <td>ext</td>\n",
       "      <td>++</td>\n",
       "      <td>day</td>\n",
       "      <td>3.0</td>\n",
       "    </tr>\n",
       "    <tr>\n",
       "      <th>303</th>\n",
       "      <td>607.48</td>\n",
       "      <td>8.32</td>\n",
       "      <td>Vietnam</td>\n",
       "      <td>rice field in front of mountains</td>\n",
       "      <td>rice field in front of mountains</td>\n",
       "      <td>ext</td>\n",
       "      <td>++</td>\n",
       "      <td>day</td>\n",
       "      <td>3.0</td>\n",
       "    </tr>\n",
       "    <tr>\n",
       "      <th>304</th>\n",
       "      <td>615.80</td>\n",
       "      <td>7.48</td>\n",
       "      <td>Vietnam</td>\n",
       "      <td>rice field in front of mountains</td>\n",
       "      <td>rice field in front of mountains</td>\n",
       "      <td>ext</td>\n",
       "      <td>0</td>\n",
       "      <td>day</td>\n",
       "      <td>3.0</td>\n",
       "    </tr>\n",
       "  </tbody>\n",
       "</table>\n",
       "</div>"
      ],
      "text/plain": [
       "      onset  duration major_location                            setting  \\\n",
       "290  465.60     39.16        Vietnam                      Military Base   \n",
       "291  504.76      4.64        Vietnam                      Military Base   \n",
       "292  509.40      4.56        Vietnam                      Military Base   \n",
       "293  513.96     13.24        Vietnam                      Military Base   \n",
       "294  527.20      2.00        Vietnam                      Military Base   \n",
       "295  529.20      5.44        Vietnam                      Military Base   \n",
       "296  534.64     19.76        Vietnam                      Military Base   \n",
       "297  554.40      2.48        Vietnam                      Military Base   \n",
       "298  556.88      1.48  United States   battlefield in Revolutionary War   \n",
       "299  558.36      1.60  United States  battlefield in American Zivil War   \n",
       "300  559.96      1.16         Europe         battlefield in World War 1   \n",
       "301  561.12      2.08         Europe         battlefield in World War 2   \n",
       "302  563.20     44.28        Vietnam                      Military Base   \n",
       "303  607.48      8.32        Vietnam   rice field in front of mountains   \n",
       "304  615.80      7.48        Vietnam   rice field in front of mountains   \n",
       "\n",
       "                                locale int_or_ext flow_of_time time_of_day  \\\n",
       "290                      at Dan's tent        ext            0         day   \n",
       "291                      at Dan's tent        ext            0         day   \n",
       "292                      at Dan's tent        ext            0         day   \n",
       "293                      at Dan's tent        ext            0         day   \n",
       "294                      at Dan's tent        ext            0         day   \n",
       "295                      at Dan's tent        ext            0         day   \n",
       "296                      at Dan's tent        ext            0         day   \n",
       "297                      at Dan's tent        ext            0         day   \n",
       "298   battlefield in Revolutionary War        ext            -         day   \n",
       "299  battlefield in American Zivil War        ext           ++         day   \n",
       "300         battlefield in World War 1        ext           ++         day   \n",
       "301         battlefield in World War 2        ext           ++         day   \n",
       "302                      at Dan's tent        ext           ++         day   \n",
       "303   rice field in front of mountains        ext           ++         day   \n",
       "304   rice field in front of mountains        ext            0         day   \n",
       "\n",
       "     run  \n",
       "290  3.0  \n",
       "291  3.0  \n",
       "292  3.0  \n",
       "293  3.0  \n",
       "294  3.0  \n",
       "295  3.0  \n",
       "296  3.0  \n",
       "297  3.0  \n",
       "298  3.0  \n",
       "299  3.0  \n",
       "300  3.0  \n",
       "301  3.0  \n",
       "302  3.0  \n",
       "303  3.0  \n",
       "304  3.0  "
      ]
     },
     "execution_count": 228,
     "metadata": {},
     "output_type": "execute_result"
    }
   ],
   "source": [
    "movAnnotations.iloc[290:305]"
   ]
  },
  {
   "cell_type": "code",
   "execution_count": 229,
   "metadata": {},
   "outputs": [
    {
     "data": {
      "text/html": [
       "<div>\n",
       "<style scoped>\n",
       "    .dataframe tbody tr th:only-of-type {\n",
       "        vertical-align: middle;\n",
       "    }\n",
       "\n",
       "    .dataframe tbody tr th {\n",
       "        vertical-align: top;\n",
       "    }\n",
       "\n",
       "    .dataframe thead th {\n",
       "        text-align: right;\n",
       "    }\n",
       "</style>\n",
       "<table border=\"1\" class=\"dataframe\">\n",
       "  <thead>\n",
       "    <tr style=\"text-align: right;\">\n",
       "      <th></th>\n",
       "      <th>onset</th>\n",
       "      <th>duration</th>\n",
       "      <th>major_location</th>\n",
       "      <th>setting</th>\n",
       "      <th>locale</th>\n",
       "      <th>int_or_ext</th>\n",
       "      <th>flow_of_time</th>\n",
       "      <th>time_of_day</th>\n",
       "      <th>run</th>\n",
       "    </tr>\n",
       "  </thead>\n",
       "  <tbody>\n",
       "    <tr>\n",
       "      <th>300</th>\n",
       "      <td>559.96</td>\n",
       "      <td>1.16</td>\n",
       "      <td>Europe</td>\n",
       "      <td>battlefield in World War 1</td>\n",
       "      <td>battlefield in World War 1</td>\n",
       "      <td>ext</td>\n",
       "      <td>++</td>\n",
       "      <td>day</td>\n",
       "      <td>3.0</td>\n",
       "    </tr>\n",
       "  </tbody>\n",
       "</table>\n",
       "</div>"
      ],
      "text/plain": [
       "      onset  duration major_location                     setting  \\\n",
       "300  559.96      1.16         Europe  battlefield in World War 1   \n",
       "\n",
       "                         locale int_or_ext flow_of_time time_of_day  run  \n",
       "300  battlefield in World War 1        ext           ++         day  3.0  "
      ]
     },
     "execution_count": 229,
     "metadata": {},
     "output_type": "execute_result"
    }
   ],
   "source": [
    "movAnnotations[movAnnotations['setting']=='battlefield in World War 1']"
   ]
  },
  {
   "cell_type": "code",
   "execution_count": 231,
   "metadata": {},
   "outputs": [
    {
     "data": {
      "text/plain": [
       "1.16"
      ]
     },
     "execution_count": 231,
     "metadata": {},
     "output_type": "execute_result"
    }
   ],
   "source": [
    "np.min(compressedTimes['duration'])"
   ]
  },
  {
   "cell_type": "code",
   "execution_count": 232,
   "metadata": {},
   "outputs": [
    {
     "data": {
      "text/html": [
       "<div>\n",
       "<style scoped>\n",
       "    .dataframe tbody tr th:only-of-type {\n",
       "        vertical-align: middle;\n",
       "    }\n",
       "\n",
       "    .dataframe tbody tr th {\n",
       "        vertical-align: top;\n",
       "    }\n",
       "\n",
       "    .dataframe thead th {\n",
       "        text-align: right;\n",
       "    }\n",
       "</style>\n",
       "<table border=\"1\" class=\"dataframe\">\n",
       "  <thead>\n",
       "    <tr style=\"text-align: right;\">\n",
       "      <th></th>\n",
       "      <th>onset</th>\n",
       "      <th>duration</th>\n",
       "      <th>major_location</th>\n",
       "      <th>setting</th>\n",
       "      <th>locale</th>\n",
       "      <th>int_or_ext</th>\n",
       "      <th>flow_of_time</th>\n",
       "      <th>time_of_day</th>\n",
       "      <th>run</th>\n",
       "    </tr>\n",
       "  </thead>\n",
       "  <tbody>\n",
       "    <tr>\n",
       "      <th>300</th>\n",
       "      <td>559.96</td>\n",
       "      <td>1.16</td>\n",
       "      <td>Europe</td>\n",
       "      <td>battlefield in World War 1</td>\n",
       "      <td>battlefield in World War 1</td>\n",
       "      <td>ext</td>\n",
       "      <td>++</td>\n",
       "      <td>day</td>\n",
       "      <td>3.0</td>\n",
       "    </tr>\n",
       "  </tbody>\n",
       "</table>\n",
       "</div>"
      ],
      "text/plain": [
       "      onset  duration major_location                     setting  \\\n",
       "300  559.96      1.16         Europe  battlefield in World War 1   \n",
       "\n",
       "                         locale int_or_ext flow_of_time time_of_day  run  \n",
       "300  battlefield in World War 1        ext           ++         day  3.0  "
      ]
     },
     "execution_count": 232,
     "metadata": {},
     "output_type": "execute_result"
    }
   ],
   "source": [
    "compressedTimes[compressedTimes['duration']==np.min(compressedTimes['duration'])]"
   ]
  },
  {
   "cell_type": "code",
   "execution_count": 233,
   "metadata": {},
   "outputs": [],
   "source": [
    "\n",
    "unique, counts = np.unique(compressedTimes['setting'], return_counts=True)\n",
    "compressedDict = dict(zip(unique, counts))\n"
   ]
  },
  {
   "cell_type": "code",
   "execution_count": 234,
   "metadata": {},
   "outputs": [
    {
     "data": {
      "text/plain": [
       "{'Ambassador Hotel': 1,\n",
       " \"Black Panther's HQ\": 1,\n",
       " \"Bubba's Grave\": 2,\n",
       " \"Bubba's Home\": 2,\n",
       " \"Bubba's mother's dining room\": 1,\n",
       " \"Dan's apartment\": 1,\n",
       " 'Disco': 1,\n",
       " 'Foursquare Church': 2,\n",
       " 'Gump House': 17,\n",
       " 'Gump Medical Center': 1,\n",
       " 'Hilton Hotel': 1,\n",
       " \"Jenny's apartment\": 1,\n",
       " \"Jenny's grandma's trailer\": 2,\n",
       " \"Jenny's house\": 2,\n",
       " 'Lincoln Memorial': 1,\n",
       " 'Margaret Mitchell Hall': 1,\n",
       " 'Military Base': 2,\n",
       " 'Ping Pong Tournament': 1,\n",
       " 'TV studio': 1,\n",
       " 'Tidal Basin with Jefferson Memorial': 1,\n",
       " 'Walk of Fame': 1,\n",
       " 'Watergate Hotel': 1,\n",
       " 'White House': 7,\n",
       " 'access-road': 9,\n",
       " 'apartment with balcony': 1,\n",
       " 'apartment with mirrored wall': 1,\n",
       " 'army bus': 2,\n",
       " 'autumn forrest': 1,\n",
       " 'bar in New York': 2,\n",
       " 'barracks': 1,\n",
       " 'battlefield in American Zivil War': 1,\n",
       " 'battlefield in Revolutionary War': 1,\n",
       " 'battlefield in World War 1': 1,\n",
       " 'battlefield in World War 2': 1,\n",
       " 'beacon': 1,\n",
       " 'bench at bus stop': 21,\n",
       " 'bridge at mississippi river': 1,\n",
       " 'bridge near club': 1,\n",
       " 'bus stop': 1,\n",
       " 'college graduation': 1,\n",
       " \"doctor's office\": 1,\n",
       " 'downtown Dallas': 1,\n",
       " 'embattled jungle': 1,\n",
       " 'field with NLF tunnel': 1,\n",
       " 'fine house': 1,\n",
       " 'flashback countryside': 1,\n",
       " 'flashback highway': 1,\n",
       " 'flooded jungle': 1,\n",
       " 'flooded rice field': 1,\n",
       " 'football field': 3,\n",
       " 'football stadium': 2,\n",
       " 'foxhole in jungle': 1,\n",
       " \"girl's dormitory\": 1,\n",
       " 'gymnasium': 1,\n",
       " 'harbor': 4,\n",
       " 'hippie camp': 1,\n",
       " 'hospital dormitory': 2,\n",
       " 'hospital lounge': 1,\n",
       " 'main street': 8,\n",
       " 'mountain logo': 1,\n",
       " 'night club': 1,\n",
       " 'on the boat': 8,\n",
       " 'outside the TV studio': 1,\n",
       " 'park with playground': 1,\n",
       " \"protester's camp\": 1,\n",
       " 'rain-swept camp': 2,\n",
       " 'rainy field': 1,\n",
       " 'random meadow': 1,\n",
       " 'random rainy jungle': 1,\n",
       " 'red light district': 1,\n",
       " 'restaurant': 1,\n",
       " 'rice field in front of mountains': 1,\n",
       " 'riverside': 2,\n",
       " 'road at a river': 1,\n",
       " 'road betweeen rice fields': 1,\n",
       " 'road between fences': 1,\n",
       " 'road between trees': 1,\n",
       " 'road between wheat fields': 1,\n",
       " 'road through Monument Valley': 2,\n",
       " 'road with Mississippi sign': 1,\n",
       " 'road with bridge': 2,\n",
       " 'school': 1,\n",
       " 'school bus': 2,\n",
       " 'sky over Savannah': 1,\n",
       " 'stone bridge': 1,\n",
       " 'street at a lake': 1,\n",
       " 'street in desert': 1,\n",
       " 'street in mountains': 1,\n",
       " 'street with crashing cars': 1,\n",
       " 'street with houses': 2,\n",
       " 'street with sidewalk': 1,\n",
       " 'tree on a field': 6,\n",
       " 'truck stop': 1,\n",
       " \"veteran's hospital\": 1,\n",
       " 'yacht harbor': 1,\n",
       " 'yet another jungle': 1}"
      ]
     },
     "execution_count": 234,
     "metadata": {},
     "output_type": "execute_result"
    }
   ],
   "source": [
    "compressedDict "
   ]
  },
  {
   "cell_type": "code",
   "execution_count": 238,
   "metadata": {},
   "outputs": [
    {
     "data": {
      "text/plain": [
       "{\"Bubba's Grave\": 2,\n",
       " \"Bubba's Home\": 2,\n",
       " 'Foursquare Church': 2,\n",
       " 'Gump House': 17,\n",
       " \"Jenny's grandma's trailer\": 2,\n",
       " \"Jenny's house\": 2,\n",
       " 'Military Base': 2,\n",
       " 'White House': 7,\n",
       " 'access-road': 9,\n",
       " 'army bus': 2,\n",
       " 'bar in New York': 2,\n",
       " 'bench at bus stop': 21,\n",
       " 'football field': 3,\n",
       " 'football stadium': 2,\n",
       " 'harbor': 4,\n",
       " 'hospital dormitory': 2,\n",
       " 'main street': 8,\n",
       " 'on the boat': 8,\n",
       " 'rain-swept camp': 2,\n",
       " 'riverside': 2,\n",
       " 'road through Monument Valley': 2,\n",
       " 'road with bridge': 2,\n",
       " 'school bus': 2,\n",
       " 'street with houses': 2,\n",
       " 'tree on a field': 6}"
      ]
     },
     "execution_count": 238,
     "metadata": {},
     "output_type": "execute_result"
    }
   ],
   "source": [
    "\n",
    "multipleDict = dict((k, v) for k, v in compressedDict.items() if v > 1.0)\n",
    "multipleDict"
   ]
  },
  {
   "cell_type": "code",
   "execution_count": null,
   "metadata": {},
   "outputs": [],
   "source": [
    "# make pandas table to only have ^ multiples (and mark which ones are which?)\n",
    "# - need to narrow down data formatting to answer questions about representations "
   ]
  }
 ],
 "metadata": {
  "kernelspec": {
   "display_name": "Python 3",
   "language": "python",
   "name": "python3"
  },
  "language_info": {
   "codemirror_mode": {
    "name": "ipython",
    "version": 3
   },
   "file_extension": ".py",
   "mimetype": "text/x-python",
   "name": "python",
   "nbconvert_exporter": "python",
   "pygments_lexer": "ipython3",
   "version": "3.7.7"
  }
 },
 "nbformat": 4,
 "nbformat_minor": 4
}
